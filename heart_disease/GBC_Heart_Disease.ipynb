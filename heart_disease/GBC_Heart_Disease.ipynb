{
 "cells": [
  {
   "cell_type": "code",
   "execution_count": 1,
   "metadata": {},
   "outputs": [],
   "source": [
    "import pandas as pd\n",
    "import numpy as np\n",
    "import seaborn as sns\n",
    "import matplotlib.pyplot as plt\n",
    "%matplotlib inline"
   ]
  },
  {
   "cell_type": "code",
   "execution_count": 2,
   "metadata": {},
   "outputs": [
    {
     "data": {
      "text/html": [
       "<div>\n",
       "<style scoped>\n",
       "    .dataframe tbody tr th:only-of-type {\n",
       "        vertical-align: middle;\n",
       "    }\n",
       "\n",
       "    .dataframe tbody tr th {\n",
       "        vertical-align: top;\n",
       "    }\n",
       "\n",
       "    .dataframe thead th {\n",
       "        text-align: right;\n",
       "    }\n",
       "</style>\n",
       "<table border=\"1\" class=\"dataframe\">\n",
       "  <thead>\n",
       "    <tr style=\"text-align: right;\">\n",
       "      <th></th>\n",
       "      <th>age</th>\n",
       "      <th>sex</th>\n",
       "      <th>chest_pain_type</th>\n",
       "      <th>resting_bp</th>\n",
       "      <th>cholesterol</th>\n",
       "      <th>fasting_bs</th>\n",
       "      <th>resting_ecg</th>\n",
       "      <th>max_hr</th>\n",
       "      <th>exercise_angina</th>\n",
       "      <th>oldpeak</th>\n",
       "      <th>st_slope</th>\n",
       "      <th>heart_disease</th>\n",
       "    </tr>\n",
       "  </thead>\n",
       "  <tbody>\n",
       "    <tr>\n",
       "      <th>0</th>\n",
       "      <td>40</td>\n",
       "      <td>M</td>\n",
       "      <td>ATA</td>\n",
       "      <td>140</td>\n",
       "      <td>289</td>\n",
       "      <td>0</td>\n",
       "      <td>Normal</td>\n",
       "      <td>172</td>\n",
       "      <td>N</td>\n",
       "      <td>0.0</td>\n",
       "      <td>Up</td>\n",
       "      <td>0</td>\n",
       "    </tr>\n",
       "    <tr>\n",
       "      <th>1</th>\n",
       "      <td>49</td>\n",
       "      <td>F</td>\n",
       "      <td>NAP</td>\n",
       "      <td>160</td>\n",
       "      <td>180</td>\n",
       "      <td>0</td>\n",
       "      <td>Normal</td>\n",
       "      <td>156</td>\n",
       "      <td>N</td>\n",
       "      <td>1.0</td>\n",
       "      <td>Flat</td>\n",
       "      <td>1</td>\n",
       "    </tr>\n",
       "    <tr>\n",
       "      <th>2</th>\n",
       "      <td>37</td>\n",
       "      <td>M</td>\n",
       "      <td>ATA</td>\n",
       "      <td>130</td>\n",
       "      <td>283</td>\n",
       "      <td>0</td>\n",
       "      <td>ST</td>\n",
       "      <td>98</td>\n",
       "      <td>N</td>\n",
       "      <td>0.0</td>\n",
       "      <td>Up</td>\n",
       "      <td>0</td>\n",
       "    </tr>\n",
       "    <tr>\n",
       "      <th>3</th>\n",
       "      <td>48</td>\n",
       "      <td>F</td>\n",
       "      <td>ASY</td>\n",
       "      <td>138</td>\n",
       "      <td>214</td>\n",
       "      <td>0</td>\n",
       "      <td>Normal</td>\n",
       "      <td>108</td>\n",
       "      <td>Y</td>\n",
       "      <td>1.5</td>\n",
       "      <td>Flat</td>\n",
       "      <td>1</td>\n",
       "    </tr>\n",
       "    <tr>\n",
       "      <th>4</th>\n",
       "      <td>54</td>\n",
       "      <td>M</td>\n",
       "      <td>NAP</td>\n",
       "      <td>150</td>\n",
       "      <td>195</td>\n",
       "      <td>0</td>\n",
       "      <td>Normal</td>\n",
       "      <td>122</td>\n",
       "      <td>N</td>\n",
       "      <td>0.0</td>\n",
       "      <td>Up</td>\n",
       "      <td>0</td>\n",
       "    </tr>\n",
       "  </tbody>\n",
       "</table>\n",
       "</div>"
      ],
      "text/plain": [
       "   age sex chest_pain_type  resting_bp  cholesterol  fasting_bs resting_ecg  \\\n",
       "0   40   M             ATA         140          289           0      Normal   \n",
       "1   49   F             NAP         160          180           0      Normal   \n",
       "2   37   M             ATA         130          283           0          ST   \n",
       "3   48   F             ASY         138          214           0      Normal   \n",
       "4   54   M             NAP         150          195           0      Normal   \n",
       "\n",
       "   max_hr exercise_angina  oldpeak st_slope  heart_disease  \n",
       "0     172               N      0.0       Up              0  \n",
       "1     156               N      1.0     Flat              1  \n",
       "2      98               N      0.0       Up              0  \n",
       "3     108               Y      1.5     Flat              1  \n",
       "4     122               N      0.0       Up              0  "
      ]
     },
     "execution_count": 2,
     "metadata": {},
     "output_type": "execute_result"
    }
   ],
   "source": [
    "df = pd.read_csv('./Dataset/heart.csv')\n",
    "df.head()"
   ]
  },
  {
   "cell_type": "code",
   "execution_count": 3,
   "metadata": {},
   "outputs": [
    {
     "name": "stdout",
     "output_type": "stream",
     "text": [
      "sex\n",
      "M    725\n",
      "F    193\n",
      "Name: count, dtype: int64\n",
      "chest_pain_type\n",
      "ASY    496\n",
      "NAP    203\n",
      "ATA    173\n",
      "TA      46\n",
      "Name: count, dtype: int64\n",
      "resting_ecg\n",
      "Normal    552\n",
      "LVH       188\n",
      "ST        178\n",
      "Name: count, dtype: int64\n",
      "exercise_angina\n",
      "N    547\n",
      "Y    371\n",
      "Name: count, dtype: int64\n",
      "st_slope\n",
      "Flat    460\n",
      "Up      395\n",
      "Down     63\n",
      "Name: count, dtype: int64\n"
     ]
    }
   ],
   "source": [
    "print(df['sex'].value_counts())\n",
    "print(df['chest_pain_type'].value_counts())\n",
    "print(df['resting_ecg'].value_counts())\n",
    "print(df['exercise_angina'].value_counts())\n",
    "print(df['st_slope'].value_counts())"
   ]
  },
  {
   "cell_type": "code",
   "execution_count": 4,
   "metadata": {},
   "outputs": [
    {
     "name": "stdout",
     "output_type": "stream",
     "text": [
      "<class 'pandas.core.frame.DataFrame'>\n",
      "RangeIndex: 918 entries, 0 to 917\n",
      "Data columns (total 12 columns):\n",
      " #   Column           Non-Null Count  Dtype  \n",
      "---  ------           --------------  -----  \n",
      " 0   age              918 non-null    int64  \n",
      " 1   sex              918 non-null    int32  \n",
      " 2   chest_pain_type  918 non-null    int32  \n",
      " 3   resting_bp       918 non-null    int64  \n",
      " 4   cholesterol      918 non-null    int64  \n",
      " 5   fasting_bs       918 non-null    int64  \n",
      " 6   resting_ecg      918 non-null    int32  \n",
      " 7   max_hr           918 non-null    int64  \n",
      " 8   exercise_angina  918 non-null    int32  \n",
      " 9   oldpeak          918 non-null    float64\n",
      " 10  st_slope         918 non-null    int32  \n",
      " 11  heart_disease    918 non-null    int64  \n",
      "dtypes: float64(1), int32(5), int64(6)\n",
      "memory usage: 68.3 KB\n"
     ]
    }
   ],
   "source": [
    "### Category and sex are two categorical objects needed to convert to numerical data.\n",
    "from sklearn.preprocessing import LabelEncoder\n",
    "le = LabelEncoder()\n",
    "df['sex']= le.fit_transform(df['sex'])\n",
    "df['chest_pain_type']= le.fit_transform(df['chest_pain_type'])\n",
    "df['resting_ecg']= le.fit_transform(df['resting_ecg'])\n",
    "df['exercise_angina']= le.fit_transform(df['exercise_angina'])\n",
    "df['st_slope']= le.fit_transform(df['st_slope'])\n",
    "df.info()"
   ]
  },
  {
   "cell_type": "code",
   "execution_count": 5,
   "metadata": {},
   "outputs": [
    {
     "name": "stdout",
     "output_type": "stream",
     "text": [
      "(918, 11) (918,)\n"
     ]
    }
   ],
   "source": [
    "X = df.drop(['heart_disease'], axis=1)\n",
    "y = df['heart_disease']\n",
    "print(X.shape, y.shape)"
   ]
  },
  {
   "cell_type": "code",
   "execution_count": 6,
   "metadata": {},
   "outputs": [
    {
     "data": {
      "text/plain": [
       "heart_disease\n",
       "1    508\n",
       "0    410\n",
       "Name: count, dtype: int64"
      ]
     },
     "execution_count": 6,
     "metadata": {},
     "output_type": "execute_result"
    }
   ],
   "source": [
    "y.value_counts()"
   ]
  },
  {
   "cell_type": "code",
   "execution_count": 7,
   "metadata": {},
   "outputs": [
    {
     "data": {
      "text/plain": [
       "heart_disease\n",
       "1    402\n",
       "0    332\n",
       "Name: count, dtype: int64"
      ]
     },
     "execution_count": 7,
     "metadata": {},
     "output_type": "execute_result"
    }
   ],
   "source": [
    "from sklearn.model_selection import train_test_split\n",
    "X_train, X_test, y_train, y_test = train_test_split(X,y, test_size=0.2, random_state=80)\n",
    "y_train.value_counts()"
   ]
  },
  {
   "cell_type": "code",
   "execution_count": 8,
   "metadata": {},
   "outputs": [
    {
     "name": "stdout",
     "output_type": "stream",
     "text": [
      "Train acc ->  94.6866485013624\n",
      "Test acc ->  89.67391304347827\n"
     ]
    }
   ],
   "source": [
    "### Gradient Boosting Classifier\n",
    "from sklearn.ensemble import GradientBoostingClassifier\n",
    "gbc = GradientBoostingClassifier()\n",
    "gbc.fit(X_train,y_train)\n",
    "\n",
    "\n",
    "print('Train acc -> ',gbc.score(X_train,y_train)*100)\n",
    "print('Test acc -> ',gbc.score(X_test,y_test)*100)"
   ]
  },
  {
   "cell_type": "code",
   "execution_count": 9,
   "metadata": {},
   "outputs": [],
   "source": [
    "# Import necessary libraries\n",
    "# from sklearn.model_selection import GridSearchCV\n",
    " \n",
    "# # Define the parameter grid for GridSearchCV\n",
    "# param_grid = {\n",
    "#     'n_estimators': [50, 100, 200],\n",
    "#     'learning_rate': [0.01, 0.1, 0.2],\n",
    "#     'max_depth': [3, 5, 7],\n",
    "# }\n",
    " \n",
    "# gb_model = GradientBoostingClassifier()\n",
    " \n",
    "# grid_search = GridSearchCV(estimator=gb_model, param_grid=param_grid, cv=5, scoring='accuracy', n_jobs=-1)\n",
    " \n",
    "# grid_search.fit(X_train, y_train)\n"
   ]
  },
  {
   "cell_type": "code",
   "execution_count": null,
   "metadata": {},
   "outputs": [],
   "source": []
  },
  {
   "cell_type": "code",
   "execution_count": 10,
   "metadata": {},
   "outputs": [
    {
     "name": "stdout",
     "output_type": "stream",
     "text": [
      "[0 1 1 0 0 1 1 1 1 1 1 1 1 0 1 1 0 0 1 1 0 1 0 1 0 1 0 1 0 0 0 1 0 1 1 0 1\n",
      " 0 1 1 1 1 1 1 0 1 0 1 1 1 0 0 0 1 0 1 0 0 0 0 1 1 1 1 1 0 0 0 0 0 1 1 1 1\n",
      " 0 1 1 0 1 1 0 1 1 0 1 0 0 1 1 1 0 1 1 1 0 1 0 0 0 1 1 0 1 0 1 1 1 1 1 1 1\n",
      " 1 1 1 1 0 1 0 0 0 0 1 0 1 0 0 1 0 1 0 1 1 1 1 1 1 1 0 1 1 1 1 1 0 0 1 1 0\n",
      " 1 0 0 0 0 0 1 0 1 1 1 0 1 0 0 0 0 0 0 1 1 0 1 1 1 0 0 1 1 1 0 0 1 1 0 1]\n"
     ]
    },
    {
     "data": {
      "text/plain": [
       "array([[68, 10],\n",
       "       [ 9, 97]], dtype=int64)"
      ]
     },
     "execution_count": 10,
     "metadata": {},
     "output_type": "execute_result"
    }
   ],
   "source": [
    "y_pred_abc = gbc.predict(X_test)\n",
    "print(y_pred_abc)\n",
    "from sklearn.metrics import confusion_matrix, classification_report,mean_absolute_error,mean_squared_error\n",
    "cm_gbc = confusion_matrix(y_test, y_pred_abc)\n",
    "cm_gbc"
   ]
  },
  {
   "cell_type": "code",
   "execution_count": 11,
   "metadata": {},
   "outputs": [
    {
     "name": "stdout",
     "output_type": "stream",
     "text": [
      "              precision    recall  f1-score   support\n",
      "\n",
      "           0       0.88      0.87      0.88        78\n",
      "           1       0.91      0.92      0.91       106\n",
      "\n",
      "    accuracy                           0.90       184\n",
      "   macro avg       0.89      0.89      0.89       184\n",
      "weighted avg       0.90      0.90      0.90       184\n",
      "\n"
     ]
    },
    {
     "data": {
      "image/png": "[encoded data removed]",
      "text/plain": [
       "<Figure size 1000x700 with 2 Axes>"
      ]
     },
     "metadata": {},
     "output_type": "display_data"
    }
   ],
   "source": [
    "plt.figure(figsize=(10,7))\n",
    "sns.heatmap(cm_gbc, annot=True)\n",
    "\n",
    "plt.xlabel('Predicted')\n",
    "plt.ylabel('Truth')\n",
    "\n",
    "print(classification_report(y_test, y_pred_abc))"
   ]
  },
  {
   "cell_type": "code",
   "execution_count": 12,
   "metadata": {},
   "outputs": [],
   "source": [
    "# SAVING THE MODEL USING PICKLE PACKAGE\n",
    "import pickle\n",
    "\n",
    "# save the iris classification model as a pickle file\n",
    "model_pkl_file = \"./hd-gbc.pkl\"\n",
    "\n",
    "with open(model_pkl_file, 'wb') as file:  \n",
    "    pickle.dump(gbc, file)"
   ]
  },
  {
   "cell_type": "code",
   "execution_count": 13,
   "metadata": {},
   "outputs": [
    {
     "name": "stdout",
     "output_type": "stream",
     "text": [
      "Accuracy : 89.67391304347827%\n"
     ]
    }
   ],
   "source": [
    "# evaluate model \n",
    "# LOAD AND USE THE SAVED MODEL USING PICKLE PACKAGE\n",
    "with open(model_pkl_file, 'rb') as file:  \n",
    "    loaded_rf = pickle.load(file)\n",
    "    y_pred = loaded_rf.predict(X_test)\n",
    "\n",
    "    # check results\n",
    "    pred = loaded_rf.score(X_test, y_test)\n",
    "    print(f\"Accuracy : {pred * 100}%\")"
   ]
  }
 ],
 "metadata": {
  "kernelspec": {
   "display_name": "Python 3",
   "language": "python",
   "name": "python3"
  },
  "language_info": {
   "codemirror_mode": {
    "name": "ipython",
    "version": 3
   },
   "file_extension": ".py",
   "mimetype": "text/x-python",
   "name": "python",
   "nbconvert_exporter": "python",
   "pygments_lexer": "ipython3",
   "version": "3.9.19"
  }
 },
 "nbformat": 4,
 "nbformat_minor": 2
}
