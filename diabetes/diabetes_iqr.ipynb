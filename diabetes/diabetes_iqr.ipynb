{
 "cells": [
  {
   "cell_type": "code",
   "execution_count": 25,
   "metadata": {},
   "outputs": [
    {
     "data": {
      "text/html": [
       "<div>\n",
       "<style scoped>\n",
       "    .dataframe tbody tr th:only-of-type {\n",
       "        vertical-align: middle;\n",
       "    }\n",
       "\n",
       "    .dataframe tbody tr th {\n",
       "        vertical-align: top;\n",
       "    }\n",
       "\n",
       "    .dataframe thead th {\n",
       "        text-align: right;\n",
       "    }\n",
       "</style>\n",
       "<table border=\"1\" class=\"dataframe\">\n",
       "  <thead>\n",
       "    <tr style=\"text-align: right;\">\n",
       "      <th></th>\n",
       "      <th>Pregnancies</th>\n",
       "      <th>Glucose</th>\n",
       "      <th>BloodPressure</th>\n",
       "      <th>SkinThickness</th>\n",
       "      <th>Insulin</th>\n",
       "      <th>BMI</th>\n",
       "      <th>DiabetesPedigreeFunction</th>\n",
       "      <th>Age</th>\n",
       "      <th>Outcome</th>\n",
       "    </tr>\n",
       "  </thead>\n",
       "  <tbody>\n",
       "    <tr>\n",
       "      <th>0</th>\n",
       "      <td>6</td>\n",
       "      <td>148</td>\n",
       "      <td>72</td>\n",
       "      <td>35</td>\n",
       "      <td>0</td>\n",
       "      <td>33.6</td>\n",
       "      <td>0.627</td>\n",
       "      <td>50</td>\n",
       "      <td>1</td>\n",
       "    </tr>\n",
       "    <tr>\n",
       "      <th>1</th>\n",
       "      <td>1</td>\n",
       "      <td>85</td>\n",
       "      <td>66</td>\n",
       "      <td>29</td>\n",
       "      <td>0</td>\n",
       "      <td>26.6</td>\n",
       "      <td>0.351</td>\n",
       "      <td>31</td>\n",
       "      <td>0</td>\n",
       "    </tr>\n",
       "    <tr>\n",
       "      <th>2</th>\n",
       "      <td>8</td>\n",
       "      <td>183</td>\n",
       "      <td>64</td>\n",
       "      <td>0</td>\n",
       "      <td>0</td>\n",
       "      <td>23.3</td>\n",
       "      <td>0.672</td>\n",
       "      <td>32</td>\n",
       "      <td>1</td>\n",
       "    </tr>\n",
       "    <tr>\n",
       "      <th>3</th>\n",
       "      <td>1</td>\n",
       "      <td>89</td>\n",
       "      <td>66</td>\n",
       "      <td>23</td>\n",
       "      <td>94</td>\n",
       "      <td>28.1</td>\n",
       "      <td>0.167</td>\n",
       "      <td>21</td>\n",
       "      <td>0</td>\n",
       "    </tr>\n",
       "    <tr>\n",
       "      <th>4</th>\n",
       "      <td>0</td>\n",
       "      <td>137</td>\n",
       "      <td>40</td>\n",
       "      <td>35</td>\n",
       "      <td>168</td>\n",
       "      <td>43.1</td>\n",
       "      <td>2.288</td>\n",
       "      <td>33</td>\n",
       "      <td>1</td>\n",
       "    </tr>\n",
       "  </tbody>\n",
       "</table>\n",
       "</div>"
      ],
      "text/plain": [
       "   Pregnancies  Glucose  BloodPressure  SkinThickness  Insulin   BMI  \\\n",
       "0            6      148             72             35        0  33.6   \n",
       "1            1       85             66             29        0  26.6   \n",
       "2            8      183             64              0        0  23.3   \n",
       "3            1       89             66             23       94  28.1   \n",
       "4            0      137             40             35      168  43.1   \n",
       "\n",
       "   DiabetesPedigreeFunction  Age  Outcome  \n",
       "0                     0.627   50        1  \n",
       "1                     0.351   31        0  \n",
       "2                     0.672   32        1  \n",
       "3                     0.167   21        0  \n",
       "4                     2.288   33        1  "
      ]
     },
     "execution_count": 25,
     "metadata": {},
     "output_type": "execute_result"
    }
   ],
   "source": [
    "import pandas as pd\n",
    "df = pd.read_csv('../datasets/diabetes.csv')\n",
    "df.head(5)"
   ]
  },
  {
   "cell_type": "code",
   "execution_count": 26,
   "metadata": {},
   "outputs": [
    {
     "name": "stdout",
     "output_type": "stream",
     "text": [
      "<class 'pandas.core.frame.DataFrame'>\n",
      "RangeIndex: 768 entries, 0 to 767\n",
      "Data columns (total 9 columns):\n",
      " #   Column                    Non-Null Count  Dtype  \n",
      "---  ------                    --------------  -----  \n",
      " 0   Pregnancies               768 non-null    int64  \n",
      " 1   Glucose                   768 non-null    int64  \n",
      " 2   BloodPressure             768 non-null    int64  \n",
      " 3   SkinThickness             768 non-null    int64  \n",
      " 4   Insulin                   768 non-null    int64  \n",
      " 5   BMI                       768 non-null    float64\n",
      " 6   DiabetesPedigreeFunction  768 non-null    float64\n",
      " 7   Age                       768 non-null    int64  \n",
      " 8   Outcome                   768 non-null    int64  \n",
      "dtypes: float64(2), int64(7)\n",
      "memory usage: 54.1 KB\n"
     ]
    }
   ],
   "source": [
    "df.info()"
   ]
  },
  {
   "cell_type": "code",
   "execution_count": 27,
   "metadata": {},
   "outputs": [
    {
     "data": {
      "text/html": [
       "<div>\n",
       "<style scoped>\n",
       "    .dataframe tbody tr th:only-of-type {\n",
       "        vertical-align: middle;\n",
       "    }\n",
       "\n",
       "    .dataframe tbody tr th {\n",
       "        vertical-align: top;\n",
       "    }\n",
       "\n",
       "    .dataframe thead th {\n",
       "        text-align: right;\n",
       "    }\n",
       "</style>\n",
       "<table border=\"1\" class=\"dataframe\">\n",
       "  <thead>\n",
       "    <tr style=\"text-align: right;\">\n",
       "      <th></th>\n",
       "      <th>Pregnancies</th>\n",
       "      <th>Glucose</th>\n",
       "      <th>BloodPressure</th>\n",
       "      <th>SkinThickness</th>\n",
       "      <th>Insulin</th>\n",
       "      <th>BMI</th>\n",
       "      <th>DiabetesPedigreeFunction</th>\n",
       "      <th>Age</th>\n",
       "      <th>Outcome</th>\n",
       "    </tr>\n",
       "  </thead>\n",
       "  <tbody>\n",
       "    <tr>\n",
       "      <th>0</th>\n",
       "      <td>6</td>\n",
       "      <td>148</td>\n",
       "      <td>72</td>\n",
       "      <td>35</td>\n",
       "      <td>0</td>\n",
       "      <td>33.6</td>\n",
       "      <td>0.627</td>\n",
       "      <td>50</td>\n",
       "      <td>1</td>\n",
       "    </tr>\n",
       "    <tr>\n",
       "      <th>1</th>\n",
       "      <td>1</td>\n",
       "      <td>85</td>\n",
       "      <td>66</td>\n",
       "      <td>29</td>\n",
       "      <td>0</td>\n",
       "      <td>26.6</td>\n",
       "      <td>0.351</td>\n",
       "      <td>31</td>\n",
       "      <td>0</td>\n",
       "    </tr>\n",
       "    <tr>\n",
       "      <th>2</th>\n",
       "      <td>8</td>\n",
       "      <td>183</td>\n",
       "      <td>64</td>\n",
       "      <td>0</td>\n",
       "      <td>0</td>\n",
       "      <td>23.3</td>\n",
       "      <td>0.672</td>\n",
       "      <td>32</td>\n",
       "      <td>1</td>\n",
       "    </tr>\n",
       "    <tr>\n",
       "      <th>3</th>\n",
       "      <td>1</td>\n",
       "      <td>89</td>\n",
       "      <td>66</td>\n",
       "      <td>23</td>\n",
       "      <td>94</td>\n",
       "      <td>28.1</td>\n",
       "      <td>0.167</td>\n",
       "      <td>21</td>\n",
       "      <td>0</td>\n",
       "    </tr>\n",
       "    <tr>\n",
       "      <th>5</th>\n",
       "      <td>5</td>\n",
       "      <td>116</td>\n",
       "      <td>74</td>\n",
       "      <td>0</td>\n",
       "      <td>0</td>\n",
       "      <td>25.6</td>\n",
       "      <td>0.201</td>\n",
       "      <td>30</td>\n",
       "      <td>0</td>\n",
       "    </tr>\n",
       "  </tbody>\n",
       "</table>\n",
       "</div>"
      ],
      "text/plain": [
       "   Pregnancies  Glucose  BloodPressure  SkinThickness  Insulin   BMI  \\\n",
       "0            6      148             72             35        0  33.6   \n",
       "1            1       85             66             29        0  26.6   \n",
       "2            8      183             64              0        0  23.3   \n",
       "3            1       89             66             23       94  28.1   \n",
       "5            5      116             74              0        0  25.6   \n",
       "\n",
       "   DiabetesPedigreeFunction  Age  Outcome  \n",
       "0                     0.627   50        1  \n",
       "1                     0.351   31        0  \n",
       "2                     0.672   32        1  \n",
       "3                     0.167   21        0  \n",
       "5                     0.201   30        0  "
      ]
     },
     "execution_count": 27,
     "metadata": {},
     "output_type": "execute_result"
    }
   ],
   "source": [
    "Indexes = []\n",
    "df_cols = df.columns\n",
    "for a in df_cols:\n",
    "    per_75, per_25 = df[a].quantile(0.75), df[a].quantile(0.25)\n",
    "    iqr = per_75 - per_25\n",
    "    upperLimit, lowerLimit = per_75 + 1.5 * iqr, per_25 - 1.5 * iqr\n",
    "    \n",
    "    i = df.loc[(df[a]>upperLimit) | (df[a]<lowerLimit)].index\n",
    "    for ele in i:\n",
    "        if ele not in Indexes:\n",
    "            Indexes.append(ele)\n",
    "      \n",
    "# len(Indexes) # 129\n",
    "df_clean = df.drop(index=Indexes)\n",
    "df_clean.head()"
   ]
  },
  {
   "cell_type": "code",
   "execution_count": 28,
   "metadata": {},
   "outputs": [],
   "source": [
    "import numpy as np\n",
    "\n",
    "df = df_clean\n",
    "\n",
    "df[['Glucose','BloodPressure','SkinThickness','Insulin','BMI']] = df[['Glucose','BloodPressure','SkinThickness','Insulin','BMI']].replace(0,np.NaN)\n",
    "df.isnull().sum()\n",
    "#Replace the null values with the median of that column\n",
    "\n",
    "df['Glucose'].fillna(df['Glucose'].median(), inplace =True)\n",
    "\n",
    "df['BloodPressure'].fillna(df['BloodPressure'].median(), inplace =True)\n",
    "\n",
    "df['BMI'].fillna(df['BMI'].median(), inplace =True)"
   ]
  },
  {
   "cell_type": "code",
   "execution_count": 29,
   "metadata": {},
   "outputs": [
    {
     "data": {
      "text/plain": [
       "0    439\n",
       "1    200\n",
       "Name: Outcome, dtype: int64"
      ]
     },
     "execution_count": 29,
     "metadata": {},
     "output_type": "execute_result"
    }
   ],
   "source": [
    "\n",
    "df.isnull().sum()\n",
    "df.drop(\"SkinThickness\", axis=1, inplace=True)\n",
    "df.drop(\"Insulin\", axis=1, inplace=True)\n",
    "df\n",
    "# SPLIT DF_MALE INTO x & Y\n",
    "# x = INDEPENDENT VARIABLES\n",
    "# Y = EPENDENT VARIABLES\n",
    "y = df['Outcome'].copy()\n",
    "x = df.drop('Outcome', axis=\"columns\")\n",
    "\n",
    "y.value_counts()\n"
   ]
  },
  {
   "cell_type": "code",
   "execution_count": 30,
   "metadata": {},
   "outputs": [
    {
     "data": {
      "text/plain": [
       "1    439\n",
       "0    439\n",
       "Name: Outcome, dtype: int64"
      ]
     },
     "execution_count": 30,
     "metadata": {},
     "output_type": "execute_result"
    }
   ],
   "source": [
    "# HANDLE ADTA IMBALANCE - INCREASE/DECREASE ROWS WITH CLASS VALUES(0/1) IF ONE IS LOWER IN NUMBER\n",
    "# FOR BETTER TRAINING\n",
    "\n",
    "from imblearn.over_sampling import SMOTE\n",
    "\n",
    "X_balanced, y_balanced = SMOTE().fit_resample(x, y)\n",
    "y_balanced.value_counts()\n"
   ]
  },
  {
   "cell_type": "code",
   "execution_count": 31,
   "metadata": {},
   "outputs": [
    {
     "data": {
      "text/plain": [
       "290    0\n",
       "685    1\n",
       "547    1\n",
       "833    1\n",
       "770    1\n",
       "      ..\n",
       "106    1\n",
       "270    1\n",
       "860    1\n",
       "435    0\n",
       "102    1\n",
       "Name: Outcome, Length: 702, dtype: int64"
      ]
     },
     "execution_count": 31,
     "metadata": {},
     "output_type": "execute_result"
    }
   ],
   "source": [
    "# TRAIN-TEST SPLIT\n",
    "from sklearn.model_selection import train_test_split\n",
    "from sklearn.preprocessing import StandardScaler\n",
    "\n",
    "x_train, x_test, y_train, y_test = train_test_split(X_balanced, y_balanced, train_size=0.8, random_state=42)\n",
    "\n",
    "# Scale x with a standard scaler\n",
    "scaler = StandardScaler()\n",
    "scaler.fit(x_train)\n",
    "x_train = pd.DataFrame(scaler.transform(x_train), columns=x.columns)\n",
    "x_test = pd.DataFrame(scaler.transform(x_test), columns=x.columns)\n",
    "y_train\n"
   ]
  },
  {
   "cell_type": "code",
   "execution_count": 32,
   "metadata": {},
   "outputs": [
    {
     "data": {
      "text/plain": [
       "0.8125"
      ]
     },
     "execution_count": 32,
     "metadata": {},
     "output_type": "execute_result"
    }
   ],
   "source": [
    "# TRAIN THE MODEL WITH SVM\n",
    "\n",
    "from sklearn.svm import SVC # \"Support vector classifier\"  \n",
    "model = SVC(C=1000, gamma=0.1, kernel='rbf', random_state=42)  \n",
    "model.fit(x_train, y_train)\n",
    "model.score(x_test, y_test)\n"
   ]
  },
  {
   "cell_type": "code",
   "execution_count": 33,
   "metadata": {},
   "outputs": [],
   "source": [
    "\n",
    "# # HYPER PARAMETER TUNING\n",
    "\n",
    "# from sklearn.model_selection import GridSearchCV\n",
    "# from sklearn.ensemble import RandomForestClassifier\n",
    "  \n",
    "# # defining parameter range\n",
    "# # param_grid = {'C': [0.1, 1, 10, 100, 1000], \n",
    "# #               'gamma': [1, 0.1, 0.01, 0.001, 0.0001],\n",
    "# #               'kernel': ['rbf']} \n",
    "# param_grid = {\n",
    "#     'n_estimators':[400],\n",
    "#     'criterion':[\"gini\", \"entropy\", \"log_loss\"],\n",
    "#     'min_samples_split':[2, 5, 10, 20], \n",
    "#     'min_samples_leaf':[1], \n",
    "#     'max_features':[\"sqrt\", \"log2\"], \n",
    "#     'max_depth':[30, 50, 70, 100], \n",
    "#     'bootstrap':[False], \n",
    "#     'random_state':[9],\n",
    "\n",
    "#     'n_jobs':[4, 10],\n",
    "# } \n",
    "  \n",
    "# grid = GridSearchCV(RandomForestClassifier(), param_grid, refit = True, cv=5, verbose = 3)\n",
    "  \n",
    "# # fitting the model for grid search\n",
    "# grid.fit(x_train, y_train)\n",
    "\n",
    "# # print best parameter after tuning\n",
    "# print(grid.best_params_)\n",
    "  \n",
    "# # print how our model looks after hyper-parameter tuning\n",
    "# print(grid.best_estimator_)\n"
   ]
  },
  {
   "cell_type": "code",
   "execution_count": 34,
   "metadata": {},
   "outputs": [
    {
     "name": "stdout",
     "output_type": "stream",
     "text": [
      "Accuracy : 81.25%\n"
     ]
    },
    {
     "data": {
      "text/plain": [
       "0.8863636363636364"
      ]
     },
     "execution_count": 34,
     "metadata": {},
     "output_type": "execute_result"
    }
   ],
   "source": [
    "# PREDICT RESULTS\n",
    "\n",
    "y_pred = model.predict(x_test) \n",
    "# train_pred = model.predict(x_train)\n",
    "\n",
    "pred = model.score(x_test, y_test)\n",
    "print(f\"Accuracy : {pred * 100}%\")\n",
    "from sklearn.ensemble import RandomForestClassifier\n",
    "\n",
    "\n",
    "# rf = RandomForestClassifier(\n",
    "#     n_estimators=400, \n",
    "#     min_samples_split=5, \n",
    "#     min_samples_leaf=1, \n",
    "#     max_features=\"sqrt\", \n",
    "#     max_depth=76, \n",
    "#     bootstrap=False, \n",
    "#     random_state=9\n",
    "# )\n",
    "rf = RandomForestClassifier(\n",
    "    criterion=\"entropy\",\n",
    "    bootstrap=False, \n",
    "    max_depth=30, \n",
    "    # min_samples_split=5,\n",
    "    n_estimators=400, \n",
    "    n_jobs=4, \n",
    "    random_state=9\n",
    ")\n",
    "rf.fit(x_train, y_train)\n",
    "rf.score(x_test, y_test)\n"
   ]
  },
  {
   "cell_type": "code",
   "execution_count": 35,
   "metadata": {},
   "outputs": [
    {
     "name": "stdout",
     "output_type": "stream",
     "text": [
      "Accuracy : 88.63636363636364%\n"
     ]
    }
   ],
   "source": [
    "# PREDICT RESULTS\n",
    "\n",
    "y_pred = rf.predict(x_test) \n",
    "# train_pred = rf.predict(x_train)\n",
    "\n",
    "pred = rf.score(x_test, y_test)\n",
    "print(f\"Accuracy : {pred * 100}%\")\n"
   ]
  },
  {
   "cell_type": "code",
   "execution_count": 36,
   "metadata": {},
   "outputs": [
    {
     "name": "stdout",
     "output_type": "stream",
     "text": [
      "prediction =>  1\n",
      "real =>  814    1\n",
      "Name: Outcome, dtype: int64\n"
     ]
    },
    {
     "data": {
      "image/png": "[encoded data removed]",
      "text/plain": [
       "<Figure size 1000x700 with 2 Axes>"
      ]
     },
     "metadata": {},
     "output_type": "display_data"
    }
   ],
   "source": [
    "# CONFUSION MATRIX\n",
    "\n",
    "import seaborn as sns\n",
    "from matplotlib import pyplot as plt\n",
    "\n",
    "from sklearn.metrics import confusion_matrix  \n",
    "cm = confusion_matrix(y_test, y_pred)\n",
    "\n",
    "plt.figure(figsize=(10,7))\n",
    "sns.heatmap(cm, annot=True, fmt=\"d\")\n",
    "plt.xlabel(\"Predicted\")\n",
    "plt.ylabel(\"Truth\")\n",
    "# MANUAL CHECKING BY PUTTING ROW VALUES\n",
    "\n",
    "row = 8\n",
    "y_pred = rf.predict(x_test.iloc[[row]])\n",
    "res = y_pred[0]\n",
    "print('prediction => ', res)\n",
    "print('real => ', y_test.iloc[[row]])\n"
   ]
  },
  {
   "cell_type": "code",
   "execution_count": 37,
   "metadata": {},
   "outputs": [],
   "source": [
    "# # SAVING THE MODEL USING PICKLE PACKAGE\n",
    "\n",
    "# import pickle\n",
    "\n",
    "# # save the iris classification model as a pickle file\n",
    "# model_pkl_file = \"../pickles/diabetes-rf.pkl\"  \n",
    "\n",
    "# with open(model_pkl_file, 'wb') as file:  \n",
    "#     pickle.dump(rf, file)\n",
    "# # LOAD AND USE THE SAVED MODEL USING PICKLE PACKAGE\n",
    "# with open(model_pkl_file, 'rb') as file:  \n",
    "#     model = pickle.load(file)\n",
    "\n",
    "# # evaluate model \n",
    "# y_pred = model.predict(x_test)\n",
    "\n",
    "# # check results\n",
    "# pred = model.score(x_test, y_test)\n",
    "# print(f\"Accuracy : {pred * 100}%\")\n"
   ]
  },
  {
   "cell_type": "code",
   "execution_count": 38,
   "metadata": {},
   "outputs": [
    {
     "data": {
      "text/plain": [
       "1    439\n",
       "0    439\n",
       "Name: Outcome, dtype: int64"
      ]
     },
     "execution_count": 38,
     "metadata": {},
     "output_type": "execute_result"
    }
   ],
   "source": [
    "# HANDLE ADTA IMBALANCE - INCREASE/DECREASE ROWS WITH CLASS VALUES(0/1) IF ONE IS LOWER IN NUMBER\n",
    "# FOR BETTER TRAINING\n",
    "\n",
    "from imblearn.over_sampling import SMOTE\n",
    "\n",
    "X_balanced, y_balanced = SMOTE().fit_resample(x, y)\n",
    "y_balanced.value_counts()\n"
   ]
  },
  {
   "cell_type": "code",
   "execution_count": 39,
   "metadata": {},
   "outputs": [
    {
     "data": {
      "text/plain": [
       "290    0\n",
       "685    1\n",
       "547    1\n",
       "833    1\n",
       "770    1\n",
       "      ..\n",
       "106    1\n",
       "270    1\n",
       "860    1\n",
       "435    0\n",
       "102    1\n",
       "Name: Outcome, Length: 702, dtype: int64"
      ]
     },
     "execution_count": 39,
     "metadata": {},
     "output_type": "execute_result"
    }
   ],
   "source": [
    "# TRAIN-TEST SPLIT\n",
    "import pandas as pd\n",
    "from sklearn.model_selection import train_test_split\n",
    "from sklearn.preprocessing import StandardScaler\n",
    "\n",
    "x_train, x_test, y_train, y_test = train_test_split(X_balanced, y_balanced, train_size=0.8, random_state=42)\n",
    "\n",
    "# Scale x with a standard scaler\n",
    "scaler = StandardScaler()\n",
    "scaler.fit(x_train)\n",
    "x_train = pd.DataFrame(scaler.transform(x_train), columns=x.columns)\n",
    "x_test = pd.DataFrame(scaler.transform(x_test), columns=x.columns)\n",
    "y_train\n"
   ]
  },
  {
   "cell_type": "code",
   "execution_count": 40,
   "metadata": {},
   "outputs": [
    {
     "data": {
      "text/html": [
       "<style>#sk-container-id-2 {color: black;background-color: white;}#sk-container-id-2 pre{padding: 0;}#sk-container-id-2 div.sk-toggleable {background-color: white;}#sk-container-id-2 label.sk-toggleable__label {cursor: pointer;display: block;width: 100%;margin-bottom: 0;padding: 0.3em;box-sizing: border-box;text-align: center;}#sk-container-id-2 label.sk-toggleable__label-arrow:before {content: \"▸\";float: left;margin-right: 0.25em;color: #696969;}#sk-container-id-2 label.sk-toggleable__label-arrow:hover:before {color: black;}#sk-container-id-2 div.sk-estimator:hover label.sk-toggleable__label-arrow:before {color: black;}#sk-container-id-2 div.sk-toggleable__content {max-height: 0;max-width: 0;overflow: hidden;text-align: left;background-color: #f0f8ff;}#sk-container-id-2 div.sk-toggleable__content pre {margin: 0.2em;color: black;border-radius: 0.25em;background-color: #f0f8ff;}#sk-container-id-2 input.sk-toggleable__control:checked~div.sk-toggleable__content {max-height: 200px;max-width: 100%;overflow: auto;}#sk-container-id-2 input.sk-toggleable__control:checked~label.sk-toggleable__label-arrow:before {content: \"▾\";}#sk-container-id-2 div.sk-estimator input.sk-toggleable__control:checked~label.sk-toggleable__label {background-color: #d4ebff;}#sk-container-id-2 div.sk-label input.sk-toggleable__control:checked~label.sk-toggleable__label {background-color: #d4ebff;}#sk-container-id-2 input.sk-hidden--visually {border: 0;clip: rect(1px 1px 1px 1px);clip: rect(1px, 1px, 1px, 1px);height: 1px;margin: -1px;overflow: hidden;padding: 0;position: absolute;width: 1px;}#sk-container-id-2 div.sk-estimator {font-family: monospace;background-color: #f0f8ff;border: 1px dotted black;border-radius: 0.25em;box-sizing: border-box;margin-bottom: 0.5em;}#sk-container-id-2 div.sk-estimator:hover {background-color: #d4ebff;}#sk-container-id-2 div.sk-parallel-item::after {content: \"\";width: 100%;border-bottom: 1px solid gray;flex-grow: 1;}#sk-container-id-2 div.sk-label:hover label.sk-toggleable__label {background-color: #d4ebff;}#sk-container-id-2 div.sk-serial::before {content: \"\";position: absolute;border-left: 1px solid gray;box-sizing: border-box;top: 0;bottom: 0;left: 50%;z-index: 0;}#sk-container-id-2 div.sk-serial {display: flex;flex-direction: column;align-items: center;background-color: white;padding-right: 0.2em;padding-left: 0.2em;position: relative;}#sk-container-id-2 div.sk-item {position: relative;z-index: 1;}#sk-container-id-2 div.sk-parallel {display: flex;align-items: stretch;justify-content: center;background-color: white;position: relative;}#sk-container-id-2 div.sk-item::before, #sk-container-id-2 div.sk-parallel-item::before {content: \"\";position: absolute;border-left: 1px solid gray;box-sizing: border-box;top: 0;bottom: 0;left: 50%;z-index: -1;}#sk-container-id-2 div.sk-parallel-item {display: flex;flex-direction: column;z-index: 1;position: relative;background-color: white;}#sk-container-id-2 div.sk-parallel-item:first-child::after {align-self: flex-end;width: 50%;}#sk-container-id-2 div.sk-parallel-item:last-child::after {align-self: flex-start;width: 50%;}#sk-container-id-2 div.sk-parallel-item:only-child::after {width: 0;}#sk-container-id-2 div.sk-dashed-wrapped {border: 1px dashed gray;margin: 0 0.4em 0.5em 0.4em;box-sizing: border-box;padding-bottom: 0.4em;background-color: white;}#sk-container-id-2 div.sk-label label {font-family: monospace;font-weight: bold;display: inline-block;line-height: 1.2em;}#sk-container-id-2 div.sk-label-container {text-align: center;}#sk-container-id-2 div.sk-container {/* jupyter's `normalize.less` sets `[hidden] { display: none; }` but bootstrap.min.css set `[hidden] { display: none !important; }` so we also need the `!important` here to be able to override the default hidden behavior on the sphinx rendered scikit-learn.org. See: https://github.com/scikit-learn/scikit-learn/issues/21755 */display: inline-block !important;position: relative;}#sk-container-id-2 div.sk-text-repr-fallback {display: none;}</style><div id=\"sk-container-id-2\" class=\"sk-top-container\"><div class=\"sk-text-repr-fallback\"><pre>SVC(C=1000, gamma=0.1, random_state=42)</pre><b>In a Jupyter environment, please rerun this cell to show the HTML representation or trust the notebook. <br />On GitHub, the HTML representation is unable to render, please try loading this page with nbviewer.org.</b></div><div class=\"sk-container\" hidden><div class=\"sk-item\"><div class=\"sk-estimator sk-toggleable\"><input class=\"sk-toggleable__control sk-hidden--visually\" id=\"sk-estimator-id-2\" type=\"checkbox\" checked><label for=\"sk-estimator-id-2\" class=\"sk-toggleable__label sk-toggleable__label-arrow\">SVC</label><div class=\"sk-toggleable__content\"><pre>SVC(C=1000, gamma=0.1, random_state=42)</pre></div></div></div></div></div>"
      ],
      "text/plain": [
       "SVC(C=1000, gamma=0.1, random_state=42)"
      ]
     },
     "execution_count": 40,
     "metadata": {},
     "output_type": "execute_result"
    }
   ],
   "source": [
    "# TRAIN THE MODEL WITH SVM\n",
    "\n",
    "from sklearn.svm import SVC # \"Support vector classifier\"  \n",
    "model = SVC(C=1000, gamma=0.1, kernel='rbf', random_state=42)  \n",
    "model.fit(x_train, y_train)\n"
   ]
  },
  {
   "cell_type": "code",
   "execution_count": 41,
   "metadata": {},
   "outputs": [],
   "source": [
    "# # HYPER PARAMETER TUNING\n",
    "\n",
    "# from sklearn.model_selection import GridSearchCV\n",
    "# from sklearn.ensemble import RandomForestClassifier\n",
    "  \n",
    "# # defining parameter range\n",
    "# # param_grid = {'C': [0.1, 1, 10, 100, 1000], \n",
    "# #               'gamma': [1, 0.1, 0.01, 0.001, 0.0001],\n",
    "# #               'kernel': ['rbf']} \n",
    "# param_grid = {\n",
    "#     'n_estimators':[400],\n",
    "#     'criterion':[\"gini\", \"entropy\", \"log_loss\"],\n",
    "#     'min_samples_split':[2, 5, 10, 20], \n",
    "#     'min_samples_leaf':[1], \n",
    "#     'max_features':[\"sqrt\", \"log2\"], \n",
    "#     'max_depth':[30, 50, 70, 100], \n",
    "#     'bootstrap':[False], \n",
    "#     'random_state':[9],\n",
    "\n",
    "#     'n_jobs':[4, 10],\n",
    "# } \n",
    "  \n",
    "# grid = GridSearchCV(RandomForestClassifier(), param_grid, refit = True, cv=5, verbose = 3)\n",
    "  \n",
    "# # fitting the model for grid search\n",
    "# grid.fit(x_train, y_train)\n",
    "\n",
    "# # print best parameter after tuning\n",
    "# print(grid.best_params_)\n",
    "  \n"
   ]
  },
  {
   "cell_type": "code",
   "execution_count": 42,
   "metadata": {},
   "outputs": [
    {
     "name": "stdout",
     "output_type": "stream",
     "text": [
      "Accuracy : 79.54545454545455%\n"
     ]
    },
    {
     "data": {
      "text/plain": [
       "0.8181818181818182"
      ]
     },
     "execution_count": 42,
     "metadata": {},
     "output_type": "execute_result"
    }
   ],
   "source": [
    "# # print how our model looks after hyper-parameter tuning\n",
    "# print(grid.best_estimator_)\n",
    "# PREDICT RESULTS\n",
    "\n",
    "y_pred = model.predict(x_test) \n",
    "# train_pred = model.predict(x_train)\n",
    "\n",
    "pred = model.score(x_test, y_test)\n",
    "print(f\"Accuracy : {pred * 100}%\")\n",
    "from sklearn.ensemble import RandomForestClassifier\n",
    "\n",
    "\n",
    "# rf = RandomForestClassifier(\n",
    "#     n_estimators=400, \n",
    "#     min_samples_split=5, \n",
    "#     min_samples_leaf=1, \n",
    "#     max_features=\"sqrt\", \n",
    "#     max_depth=76, \n",
    "#     bootstrap=False, \n",
    "#     random_state=9\n",
    "# )\n",
    "rf = RandomForestClassifier(\n",
    "    bootstrap=False, \n",
    "    max_depth=30, \n",
    "    min_samples_split=5,\n",
    "    n_estimators=400, \n",
    "    n_jobs=4, \n",
    "    random_state=9\n",
    ")\n",
    "rf.fit(x_train, y_train)\n",
    "rf.score(x_test, y_test)\n"
   ]
  },
  {
   "cell_type": "code",
   "execution_count": 43,
   "metadata": {},
   "outputs": [
    {
     "name": "stdout",
     "output_type": "stream",
     "text": [
      "Accuracy : 81.81818181818183%\n"
     ]
    },
    {
     "data": {
      "text/plain": [
       "Text(95.72222222222221, 0.5, 'Truth')"
      ]
     },
     "execution_count": 43,
     "metadata": {},
     "output_type": "execute_result"
    },
    {
     "data": {
      "image/png": "[encoded data removed]",
      "text/plain": [
       "<Figure size 1000x700 with 2 Axes>"
      ]
     },
     "metadata": {},
     "output_type": "display_data"
    }
   ],
   "source": [
    "# PREDICT RESULTS\n",
    "\n",
    "y_pred = rf.predict(x_test) \n",
    "# train_pred = rf.predict(x_train)\n",
    "\n",
    "pred = rf.score(x_test, y_test)\n",
    "print(f\"Accuracy : {pred * 100}%\")\n",
    "# CONFUSION MATRIX\n",
    "\n",
    "import seaborn as sns\n",
    "from matplotlib import pyplot as plt\n",
    "\n",
    "from sklearn.metrics import confusion_matrix  \n",
    "cm = confusion_matrix(y_test, y_pred)\n",
    "\n",
    "plt.figure(figsize=(10,7))\n",
    "sns.heatmap(cm, annot=True, fmt=\"d\")\n",
    "plt.xlabel(\"Predicted\")\n",
    "plt.ylabel(\"Truth\")\n"
   ]
  },
  {
   "cell_type": "code",
   "execution_count": 44,
   "metadata": {},
   "outputs": [
    {
     "name": "stdout",
     "output_type": "stream",
     "text": [
      "prediction =>  1\n",
      "real =>  814    1\n",
      "Name: Outcome, dtype: int64\n"
     ]
    }
   ],
   "source": [
    "# MANUAL CHECKING BY PUTTING ROW VALUES\n",
    "\n",
    "row = 8\n",
    "y_pred = rf.predict(x_test.iloc[[row]])\n",
    "res = y_pred[0]\n",
    "print('prediction => ', res)\n",
    "print('real => ', y_test.iloc[[row]])\n",
    "# # SAVING THE MODEL USING PICKLE PACKAGE\n",
    "\n",
    "# import pickle\n",
    "\n",
    "# # save the iris classification model as a pickle file\n",
    "# model_pkl_file = \"../pickles/diabetes-rf.pkl\"  \n",
    "\n",
    "# with open(model_pkl_file, 'wb') as file:  \n",
    "#     pickle.dump(rf, file)\n",
    "# # LOAD AND USE THE SAVED MODEL USING PICKLE PACKAGE\n",
    "# with open(model_pkl_file, 'rb') as file:  \n",
    "#     model = pickle.load(file)\n",
    "\n",
    "# # evaluate model \n",
    "# y_pred = model.predict(x_test)\n",
    "\n",
    "# # check results\n",
    "# pred = model.score(x_test, y_test)\n",
    "# print(f\"Accuracy : {pred * 100}%\")\n"
   ]
  }
 ],
 "metadata": {
  "kernelspec": {
   "display_name": "Python 3",
   "language": "python",
   "name": "python3"
  },
  "language_info": {
   "codemirror_mode": {
    "name": "ipython",
    "version": 3
   },
   "file_extension": ".py",
   "mimetype": "text/x-python",
   "name": "python",
   "nbconvert_exporter": "python",
   "pygments_lexer": "ipython3",
   "version": "3.10.4"
  }
 },
 "nbformat": 4,
 "nbformat_minor": 2
}
