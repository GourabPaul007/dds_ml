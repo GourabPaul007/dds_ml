{
 "cells": [
  {
   "cell_type": "code",
   "execution_count": null,
   "metadata": {},
   "outputs": [],
   "source": [
    "from pycaret.classification import compare_models, setup\n",
    "\n",
    "clf1 = setup(data = diabetes_df, target = 'Outcome', preprocess = False, silent = True)\n",
    "\n",
    "top5 = compare_models(sort='AUC', n_select = 5, \n",
    "                    #   exclude=['lightgbm','xgboost','dummy','svm','ridge','knn','dt','nb','qda']\n",
    "                    )\n",
    "\n"
   ]
  }
 ],
 "metadata": {
  "language_info": {
   "name": "python"
  }
 },
 "nbformat": 4,
 "nbformat_minor": 2
}
