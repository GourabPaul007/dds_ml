{
 "cells": [
  {
   "cell_type": "code",
   "execution_count": null,
   "metadata": {},
   "outputs": [],
   "source": [
    "import pandas as pd\n",
    "import numpy as np\n",
    "import seaborn as sns\n",
    "import matplotlib.pyplot as plt"
   ]
  },
  {
   "cell_type": "code",
   "execution_count": null,
   "metadata": {},
   "outputs": [],
   "source": [
    "df = pd.read_csv('./healthcare-dataset-stroke-data.csv')\n",
    "df.head()"
   ]
  },
  {
   "cell_type": "code",
   "execution_count": null,
   "metadata": {},
   "outputs": [],
   "source": [
    "print(df.info())\n",
    "print(df.describe())\n",
    "df.drop_duplicates()\n",
    "df.isnull().sum()"
   ]
  },
  {
   "cell_type": "code",
   "execution_count": null,
   "metadata": {},
   "outputs": [],
   "source": [
    "df0 = df[df['stroke'] == 0]\n",
    "df1 = df[df['stroke'] == 1]\n",
    "df0['bmi'].fillna(df0['bmi'].mean(), inplace=True)\n",
    "df1['bmi'].fillna(df1['bmi'].mean(), inplace=True)\n",
    "df = pd.concat([df0, df1], axis=0)\n",
    "# df['bmi'].fillna(df['bmi'].mean(), inplace=True)\n",
    "df.isnull().sum()"
   ]
  },
  {
   "cell_type": "code",
   "execution_count": null,
   "metadata": {},
   "outputs": [],
   "source": [
    "### Category and sex are categorical objects needed to convert numerical data.\n",
    "from sklearn.preprocessing import LabelEncoder\n",
    "le = LabelEncoder()\n",
    "df['gender']= le.fit_transform(df['gender'])\n",
    "df['smoking_status']= le.fit_transform(df['smoking_status'])\n",
    "df['work_type']= le.fit_transform(df['work_type'])\n",
    "df['ever_married']= le.fit_transform(df['ever_married'])\n",
    "df['residence_type']= le.fit_transform(df['residence_type'])\n",
    "df.info()"
   ]
  },
  {
   "cell_type": "code",
   "execution_count": null,
   "metadata": {},
   "outputs": [],
   "source": [
    "clms = ['gender','hypertension','heart_disease','ever_married','stroke']\n",
    "\n",
    "import matplotlib.pyplot as plt\n",
    "import seaborn as sns\n",
    "\n",
    "def plotCols(dataframe):\n",
    "    totalPlots = len(dataframe.columns)\n",
    "    plotColumns = totalPlots//7+1\n",
    "    plt.figure(figsize = (20, plotColumns*2.5))\n",
    "    plotnumber = 1\n",
    "    for column in dataframe.columns:\n",
    "        if plotnumber <= totalPlots:\n",
    "            ax = plt.subplot(plotColumns, 7, plotnumber)\n",
    "            # sns.distplot(dataframe[column])\n",
    "            sns.histplot(dataframe[column])\n",
    "            plt.xlabel(column)\n",
    "            \n",
    "        plotnumber += 1\n",
    "\n",
    "    plt.tight_layout()\n",
    "    plt.show()\n",
    "plotCols(df)"
   ]
  },
  {
   "cell_type": "code",
   "execution_count": null,
   "metadata": {},
   "outputs": [],
   "source": [
    "corr_metrix = df.corr()\n",
    "cm = corr_metrix['stroke']*100\n",
    "cm\n",
    "plt.figure(figsize=(10,7))\n",
    "sns.heatmap(corr_metrix*100, annot = True, cmap='RdYlGn')"
   ]
  },
  {
   "cell_type": "code",
   "execution_count": null,
   "metadata": {},
   "outputs": [],
   "source": [
    "X = df.drop(['id','gender','residence_type', 'stroke','work_type','smoking_status'], axis=1)\n",
    "y = df['stroke']\n",
    "print(X.shape,y.shape)\n",
    "X.head()"
   ]
  },
  {
   "cell_type": "code",
   "execution_count": null,
   "metadata": {},
   "outputs": [],
   "source": [
    "from imblearn.over_sampling import SMOTE\n",
    "\n",
    "oversample = SMOTE(sampling_strategy=\"minority\", random_state=42, k_neighbors=10, n_jobs=-1)\n",
    "X, y = oversample.fit_resample(X, y)"
   ]
  },
  {
   "cell_type": "code",
   "execution_count": null,
   "metadata": {},
   "outputs": [],
   "source": [
    "from sklearn.model_selection import train_test_split\n",
    "X_train, X_test, y_train, y_test = train_test_split(X,y, test_size = 0.2, random_state=320)\n",
    "print(X_train.shape,X_test.shape)"
   ]
  },
  {
   "cell_type": "code",
   "execution_count": null,
   "metadata": {},
   "outputs": [],
   "source": [
    "### Logistic Regression\n",
    "from sklearn.linear_model import LogisticRegression\n",
    "lr = LogisticRegression()\n",
    "lr.fit(X_train,y_train)\n",
    "\n",
    "print('Train Acc -> ',lr.score(X_train,y_train)*100)\n",
    "print('Test Acc -> ',lr.score(X_test,y_test)*100)"
   ]
  },
  {
   "cell_type": "code",
   "execution_count": null,
   "metadata": {},
   "outputs": [],
   "source": [
    "### hyperparameter tuning\n",
    "# penalty = ['l1', 'l2', 'elasticnet']\n",
    "# C = [1,10,15,20]\n",
    "# solver = ['lbfgs', 'liblinear', 'newton-cg', 'newton-cholesky', 'sag', 'saga']\n",
    "# multi_class = ['auto', 'ovr', 'multinomial']\n",
    "\n",
    "# params = {\n",
    "    # 'penalty' : penalty,\n",
    "    # 'C': C,\n",
    "    # 'solver': solver\n",
    "    # 'multi_class': multi_class\n",
    "# }\n",
    "# from sklearn.model_selection import GridSearchCV\n",
    "# lr_grid = GridSearchCV(estimator=lr, param_grid=params, cv=5, n_jobs=-1)\n",
    "# lr_grid.fit(X_train,y_train)\n",
    "# print('Best Parameters -> ',lr_grid.best_params_)\n",
    "# print('Best Parameters -> ',lr_grid.best_score_)"
   ]
  },
  {
   "cell_type": "code",
   "execution_count": null,
   "metadata": {},
   "outputs": [],
   "source": [
    "# # hyper parameter tuning of random forest\n",
    "\n",
    "# from sklearn.ensemble import RandomForestClassifier\n",
    "# from sklearn.metrics import accuracy_score, confusion_matrix, classification_report\n",
    "# import matplotlib.pyplot as plt\n",
    "\n",
    "# rf = RandomForestClassifier()\n",
    "# rf.fit(X_train, y_train)\n",
    "\n",
    "\n",
    "# from sklearn.model_selection import GridSearchCV\n",
    "# grid_param = {\n",
    "#     'n_estimators' : [100, 120, 150, 200, 250],\n",
    "#     'criterion' : ['gini', 'entropy', 'log_loss'],\n",
    "#     'max_depth' : [7, 10, 13, 15],\n",
    "#     'class_weight': ['balanced', \n",
    "#                      'balanced_subsample'\n",
    "#                      ],\n",
    "#     # 'min_samples_leaf' : [1, 3, 5, 7],\n",
    "#     # 'min_samples_split' : [2, 3, 5, 7],\n",
    "#     'max_features' : ['sqrt', 'log2']\n",
    "# }\n",
    "\n",
    "# grid_search_rf = GridSearchCV(rf, grid_param, cv = 5, n_jobs = -1, verbose = 3)\n",
    "# grid_search_rf.fit(X_train, y_train)\n",
    "\n",
    "\n",
    "\n",
    "# # best parameters and best score\n",
    "# print(grid_search_rf.best_params_)\n",
    "# print(grid_search_rf.best_score_)\n",
    "# print(grid_search_rf.best_estimator_)"
   ]
  },
  {
   "cell_type": "code",
   "execution_count": null,
   "metadata": {},
   "outputs": [],
   "source": [
    "from sklearn.ensemble import RandomForestClassifier\n",
    "rf = RandomForestClassifier(class_weight='balanced_subsample', max_depth=20, n_estimators=200)\n",
    "rf.fit(X_train, y_train)\n",
    "print('Train Acc -> ',rf.score(X_train,y_train)*100)\n",
    "print('Test Acc -> ',rf.score(X_test,y_test)*100)\n",
    "y_pred = rf.predict(X_test)\n",
    "\n",
    "from sklearn.metrics import confusion_matrix, classification_report,mean_absolute_error,mean_squared_error\n",
    "cm = confusion_matrix(y_test, y_pred)\n",
    "print(cm)\n",
    "plt.figure(figsize=(6,4))\n",
    "sns.heatmap(cm, annot=True, fmt=\"d\")\n",
    "plt.xlabel('Predicted')\n",
    "plt.ylabel('Truth')\n",
    "print(classification_report(y_test, y_pred))"
   ]
  },
  {
   "cell_type": "code",
   "execution_count": null,
   "metadata": {},
   "outputs": [],
   "source": [
    "y_pred = lr.predict(X_test)\n",
    "print(y_pred)\n",
    "\n",
    "from sklearn.metrics import confusion_matrix, classification_report,mean_absolute_error,mean_squared_error\n",
    "cm = confusion_matrix(y_test, y_pred)\n",
    "cm"
   ]
  },
  {
   "cell_type": "code",
   "execution_count": null,
   "metadata": {},
   "outputs": [],
   "source": [
    "plt.figure(figsize=(6,3))\n",
    "sns.heatmap(cm, annot=True, cmap='RdYlGn')\n",
    "plt.xlabel('Predicted')\n",
    "plt.ylabel('Truth')\n",
    "\n",
    "print(classification_report(y_test, y_pred))"
   ]
  },
  {
   "cell_type": "code",
   "execution_count": null,
   "metadata": {},
   "outputs": [],
   "source": [
    "mae = mean_absolute_error(y_test, y_pred)\n",
    "mse = mean_squared_error(y_test, y_pred)\n",
    "rmse = np.sqrt(mse)\n",
    "print('mae => ', mae)\n",
    "print('mse => ', mse)\n",
    "print('rmse => ', rmse)"
   ]
  },
  {
   "cell_type": "code",
   "execution_count": null,
   "metadata": {},
   "outputs": [],
   "source": [
    "# SAVING THE MODEL USING PICKLE PACKAGE\n",
    "import pickle\n",
    "\n",
    "# save the iris classification model as a pickle file\n",
    "model_pkl_file = \"./stroke-rf.pkl\"\n",
    "\n",
    "with open(model_pkl_file, 'wb') as file:  \n",
    "    pickle.dump(rf, file)"
   ]
  },
  {
   "cell_type": "code",
   "execution_count": null,
   "metadata": {},
   "outputs": [],
   "source": [
    "# evaluate model \n",
    "# LOAD AND USE THE SAVED MODEL USING PICKLE PACKAGE\n",
    "with open(model_pkl_file, 'rb') as file:  \n",
    "    loaded_rf = pickle.load(file)\n",
    "    y_pred = loaded_rf.predict(X_test)\n",
    "\n",
    "    # check results\n",
    "    pred = loaded_rf.score(X_test, y_test)\n",
    "    print(f\"Accuracy : {pred * 100}%\")"
   ]
  }
 ],
 "metadata": {
  "kernelspec": {
   "display_name": "Python 3",
   "language": "python",
   "name": "python3"
  },
  "language_info": {
   "codemirror_mode": {
    "name": "ipython",
    "version": 3
   },
   "file_extension": ".py",
   "mimetype": "text/x-python",
   "name": "python",
   "nbconvert_exporter": "python",
   "pygments_lexer": "ipython3",
   "version": "3.9.19"
  }
 },
 "nbformat": 4,
 "nbformat_minor": 2
}
