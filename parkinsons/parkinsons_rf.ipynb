{
 "cells": [
  {
   "cell_type": "code",
   "execution_count": null,
   "metadata": {},
   "outputs": [],
   "source": [
    "# READ FROM CSV AND CREATE A DATA FRAME\n",
    "\n",
    "import pandas as pd\n",
    "\n",
    "df = pd.read_csv('./parkinsons.csv')\n",
    "# print(df)\n",
    "# df = df.sample(frac=1).reset_index(drop=True)\n",
    "display(df)"
   ]
  },
  {
   "cell_type": "code",
   "execution_count": null,
   "metadata": {},
   "outputs": [],
   "source": [
    "df.isnull().sum()"
   ]
  },
  {
   "cell_type": "code",
   "execution_count": null,
   "metadata": {},
   "outputs": [],
   "source": [
    "# checking numerical features distribution\n",
    "\n",
    "import matplotlib.pyplot as plt\n",
    "import seaborn as sns\n",
    "\n",
    "def plotCols(dataframe):\n",
    "    totalPlots = len(dataframe.columns)\n",
    "    plotColumns = totalPlots//7+1\n",
    "    plt.figure(figsize = (20, plotColumns*2.5))\n",
    "    plotnumber = 1\n",
    "    for column in dataframe.columns:\n",
    "        if plotnumber <= totalPlots:\n",
    "            ax = plt.subplot(plotColumns, 7, plotnumber)\n",
    "            # sns.distplot(dataframe[column])\n",
    "            sns.histplot(dataframe[column])\n",
    "            plt.xlabel(column)\n",
    "            \n",
    "        plotnumber += 1\n",
    "\n",
    "    plt.tight_layout()\n",
    "    plt.show()\n",
    "\n",
    "plotCols(df)"
   ]
  },
  {
   "cell_type": "code",
   "execution_count": null,
   "metadata": {},
   "outputs": [],
   "source": [
    "# heatmap of data\n",
    "\n",
    "plt.figure(figsize = (15, 8))\n",
    "\n",
    "sns.heatmap(df.corr(), annot = True, linewidths = 1, linecolor = 'lightgrey')\n",
    "plt.show()"
   ]
  },
  {
   "cell_type": "code",
   "execution_count": null,
   "metadata": {},
   "outputs": [],
   "source": [
    "df.columns"
   ]
  },
  {
   "cell_type": "code",
   "execution_count": null,
   "metadata": {},
   "outputs": [],
   "source": [
    "plotCols(df)"
   ]
  },
  {
   "cell_type": "code",
   "execution_count": null,
   "metadata": {},
   "outputs": [],
   "source": [
    "df.head()"
   ]
  },
  {
   "cell_type": "code",
   "execution_count": null,
   "metadata": {},
   "outputs": [],
   "source": [
    "ind_col = [col for col in df.columns if col != 'status']\n",
    "dep_col = 'status'\n",
    "\n",
    "x = df[ind_col]\n",
    "y = df[dep_col]"
   ]
  },
  {
   "cell_type": "code",
   "execution_count": null,
   "metadata": {},
   "outputs": [],
   "source": [
    "from imblearn.over_sampling import SMOTE\n",
    "\n",
    "oversample = SMOTE(sampling_strategy=\"minority\", random_state=42, k_neighbors=10, n_jobs=-1)\n",
    "x, y = oversample.fit_resample(x, y)"
   ]
  },
  {
   "cell_type": "code",
   "execution_count": null,
   "metadata": {},
   "outputs": [],
   "source": [
    "from sklearn.model_selection import train_test_split\n",
    "\n",
    "x_train, x_test, y_train, y_test = train_test_split(x, y, test_size = 0.2, random_state = 42)"
   ]
  },
  {
   "cell_type": "code",
   "execution_count": null,
   "metadata": {},
   "outputs": [],
   "source": [
    "# hyper parameter tuning of decision tree \n",
    "\n",
    "from sklearn.model_selection import GridSearchCV\n",
    "from sklearn.tree import DecisionTreeClassifier\n",
    "\n",
    "dt = DecisionTreeClassifier()\n",
    "dt.fit(x_train, y_train)\n",
    "\n",
    "grid_param = {\n",
    "    'criterion' : ['gini', 'entropy', 'log_loss'],\n",
    "    'splitter' : ['best', 'random'],\n",
    "    'max_depth' : [3, 5, 7, 10, 12, 15, 20],\n",
    "    'min_samples_split' : [2, 3, 5, 7],\n",
    "    'min_samples_leaf' : [1, 2, 3, 5, 7],\n",
    "    'max_features' : ['sqrt', 'log2']\n",
    "}\n",
    "\n",
    "grid_search_dt = GridSearchCV(dt, grid_param, cv = 5, n_jobs = -1, verbose = 3)\n",
    "grid_search_dt.fit(x_train, y_train)\n",
    "\n",
    "\n",
    "\n",
    "# best parameters and best score\n",
    "print(grid_search_dt.best_params_)\n",
    "print(grid_search_dt.best_score_)\n",
    "print(grid_search_dt.best_estimator_)"
   ]
  },
  {
   "cell_type": "code",
   "execution_count": null,
   "metadata": {},
   "outputs": [],
   "source": [
    "from sklearn.tree import DecisionTreeClassifier\n",
    "from sklearn.metrics import accuracy_score, confusion_matrix, classification_report\n",
    "\n",
    "# dt = DecisionTreeClassifier(max_depth=5, max_features='log2', min_samples_split=7)\n",
    "dt = grid_search_dt.best_estimator_\n",
    "dt.fit(x_train, y_train)\n",
    "\n",
    "# accuracy score, confusion matrix and classification report of decision tree\n",
    "\n",
    "dt_acc = accuracy_score(y_test, dt.predict(x_test))\n",
    "\n",
    "print(f\"Training Accuracy of Decision Tree is {accuracy_score(y_train, dt.predict(x_train))}\")\n",
    "print(f\"Test Accuracy of Decision Tree is {dt_acc} \\n\")\n",
    "\n",
    "print(f\"Confusion Matrix :- \\n{confusion_matrix(y_test, dt.predict(x_test))}\\n\")\n",
    "print(f\"Classification Report :- \\n {classification_report(y_test, dt.predict(x_test))}\")"
   ]
  },
  {
   "cell_type": "code",
   "execution_count": null,
   "metadata": {},
   "outputs": [],
   "source": [
    "# from sklearn.metrics import accuracy_score, confusion_matrix, classification_report\n",
    "\n",
    "# dt_acc = accuracy_score(y_test, dt.predict(x_test))\n",
    "\n",
    "# print(f\"Training Accuracy of Decision Tree is {accuracy_score(y_train, dt.predict(x_train))}\")\n",
    "# print(f\"Testing Accuracy of Decision Tree is {dt_acc} \\n\")\n",
    "\n",
    "# print(f\"Confusion Matrix :- \\n{confusion_matrix(y_test, dt.predict(x_test))}\\n\")\n",
    "# print(f\"Classification Report :- \\n {classification_report(y_test, dt.predict(x_test))}\")"
   ]
  },
  {
   "cell_type": "code",
   "execution_count": null,
   "metadata": {},
   "outputs": [],
   "source": [
    "# hyper parameter tuning of random forest\n",
    "\n",
    "from sklearn.ensemble import RandomForestClassifier\n",
    "from sklearn.metrics import accuracy_score, confusion_matrix, classification_report\n",
    "import matplotlib.pyplot as plt\n",
    "\n",
    "rf = RandomForestClassifier()\n",
    "rf.fit(x_train, y_train)\n",
    "\n",
    "\n",
    "from sklearn.model_selection import GridSearchCV\n",
    "grid_param = {\n",
    "    'n_estimators' : [100, 120, 150, 200, 250],\n",
    "    'criterion' : ['gini', 'entropy', 'log_loss'],\n",
    "    'max_depth' : [7, 10, 13, 15],\n",
    "    'class_weight': ['balanced', \n",
    "                     'balanced_subsample'\n",
    "                     ],\n",
    "    # 'min_samples_leaf' : [1, 3, 5, 7],\n",
    "    # 'min_samples_split' : [2, 3, 5, 7],\n",
    "    'max_features' : ['sqrt', 'log2']\n",
    "}\n",
    "\n",
    "grid_search_rf = GridSearchCV(rf, grid_param, cv = 5, n_jobs = -1, verbose = 3)\n",
    "grid_search_rf.fit(x_train, y_train)\n",
    "# best parameters and best score\n",
    "print(grid_search_rf.best_params_)\n",
    "print(grid_search_rf.best_score_)\n",
    "print(grid_search_rf.best_estimator_)"
   ]
  },
  {
   "cell_type": "code",
   "execution_count": null,
   "metadata": {},
   "outputs": [],
   "source": [
    "# from sklearn.metrics import accuracy_score\n",
    "# from sklearn.tree import DecisionTreeClassifier\n",
    "\n",
    "# dt = DecisionTreeClassifier(max_depth=5, max_features='sqrt', min_samples_split=7)\n",
    "# dt.fit(x_train, y_train)\n",
    "# dt_acc = accuracy_score(y_test, dt.predict(x_test))\n",
    "# print(dt_acc)"
   ]
  },
  {
   "cell_type": "code",
   "execution_count": null,
   "metadata": {},
   "outputs": [],
   "source": [
    "from sklearn.ensemble import RandomForestClassifier\n",
    "from sklearn.metrics import accuracy_score, confusion_matrix, classification_report\n",
    "rf = RandomForestClassifier(class_weight='balanced_subsample', max_depth=10)\n",
    "rf.fit(x_train, y_train)\n",
    "print(f\"Training Accuracy of Random Forest Classifier is {accuracy_score(y_train, rf.predict(x_train))}\")\n",
    "print(f\"Test Accuracy of Random Forest Classifier is {accuracy_score(y_test, rf.predict(x_test))} \\n\")\n",
    "print(f\"Confusion Matrix :- \\n{confusion_matrix(y_test, rf.predict(x_test))}\\n\")\n",
    "print(f\"Classification Report :- \\n {classification_report(y_test, rf.predict(x_test))}\")"
   ]
  },
  {
   "cell_type": "code",
   "execution_count": null,
   "metadata": {},
   "outputs": [],
   "source": [
    "from sklearn.model_selection import cross_val_score, KFold\n",
    "\n",
    "kf = KFold(n_splits=5, shuffle=True, random_state=42)\n",
    "\n",
    "cross_val_results = cross_val_score(dt, x, y, cv=kf)\n",
    "\n",
    "print(f'Cross-Validation Results (Accuracy) DT: {cross_val_results}')\n",
    "print(f'Mean Accuracy: {cross_val_results.mean()}')"
   ]
  },
  {
   "cell_type": "code",
   "execution_count": null,
   "metadata": {},
   "outputs": [],
   "source": [
    "from sklearn.model_selection import cross_val_score, KFold\n",
    "\n",
    "kf = KFold(n_splits=5, shuffle=True, random_state=42)\n",
    "\n",
    "cross_val_results = cross_val_score(rf, x, y, cv=kf)\n",
    "\n",
    "print(f'Cross-Validation Results (Accuracy): {cross_val_results}')\n",
    "print(f'Mean Accuracy: {cross_val_results.mean()}')"
   ]
  },
  {
   "cell_type": "code",
   "execution_count": null,
   "metadata": {},
   "outputs": [],
   "source": [
    "from sklearn.metrics import mean_squared_error, root_mean_squared_error, mean_absolute_error\n",
    "\n",
    "def error_report(model):\n",
    "    mse = mean_squared_error(y_test, model.predict(x_test))\n",
    "    print(f\"Mean Squared Error: {mse}\")\n",
    "    rmse = root_mean_squared_error(y_test, model.predict(x_test))\n",
    "    print(f\"Root Mean Squared Error: {rmse}\")\n",
    "    mae = mean_absolute_error(y_test, model.predict(x_test))\n",
    "    print(f\"Mean Absolute Error: {mae}\")\n",
    "\n",
    "error_report(dt)\n",
    "print()\n",
    "error_report(rf)"
   ]
  },
  {
   "cell_type": "code",
   "execution_count": null,
   "metadata": {},
   "outputs": [],
   "source": [
    "# SAVING THE MODEL USING PICKLE PACKAGE\n",
    "import pickle\n",
    "\n",
    "# save the iris classification model as a pickle file\n",
    "model_pkl_file = \"./parkinsons-dt.pkl\"\n",
    "\n",
    "with open(model_pkl_file, 'wb') as file:  \n",
    "    pickle.dump(dt, file)"
   ]
  },
  {
   "cell_type": "code",
   "execution_count": null,
   "metadata": {},
   "outputs": [],
   "source": [
    "# SAVING THE MODEL USING PICKLE PACKAGE\n",
    "import pickle\n",
    "\n",
    "# save the iris classification model as a pickle file\n",
    "model_pkl_file = \"./parkinsons-rf.pkl\"\n",
    "\n",
    "with open(model_pkl_file, 'wb') as file:  \n",
    "    pickle.dump(rf, file)"
   ]
  }
 ],
 "metadata": {
  "kernelspec": {
   "display_name": "Python 3",
   "language": "python",
   "name": "python3"
  },
  "language_info": {
   "codemirror_mode": {
    "name": "ipython",
    "version": 3
   },
   "file_extension": ".py",
   "mimetype": "text/x-python",
   "name": "python",
   "nbconvert_exporter": "python",
   "pygments_lexer": "ipython3",
   "version": "3.9.19"
  }
 },
 "nbformat": 4,
 "nbformat_minor": 2
}
